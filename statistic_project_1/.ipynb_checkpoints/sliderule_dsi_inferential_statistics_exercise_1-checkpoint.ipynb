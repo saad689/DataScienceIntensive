{
 "cells": [
  {
   "cell_type": "markdown",
   "metadata": {},
   "source": [
    "## What is the true normal human body temperature? \n",
    "\n",
    "#### Background\n",
    "\n",
    "The mean normal body temperature was held to be 37$^{\\circ}$C or 98.6$^{\\circ}$F for more than 120 years since it was first conceptualized and reported by Carl Wunderlich in a famous 1868 book. In 1992, this value was revised to 36.8$^{\\circ}$C or 98.2$^{\\circ}$F. \n",
    "\n",
    "#### Exercise\n",
    "In this exercise, you will analyze a dataset of human body temperatures and employ the concepts of hypothesis testing, confidence intervals, and statistical significance.\n",
    "\n",
    "Answer the following questions **in this notebook below and submit to your Github account**. \n",
    "\n",
    "1.  Is the distribution of body temperatures normal? \n",
    "    - Remember that this is a condition for the CLT, and hence the statistical tests we are using, to apply. \n",
    "2.  Is the true population mean really 98.6 degrees F?\n",
    "    - Bring out the one sample hypothesis test! In this situation, is it approriate to apply a z-test or a t-test? How will the result be different?\n",
    "3.  At what temperature should we consider someone's temperature to be \"abnormal\"?\n",
    "    - Start by computing the margin of error and confidence interval.\n",
    "4.  Is there a significant difference between males and females in normal temperature?\n",
    "    - Set up and solve for a two sample hypothesis testing.\n",
    "\n",
    "You can include written notes in notebook cells using Markdown: \n",
    "   - In the control panel at the top, choose Cell > Cell Type > Markdown\n",
    "   - Markdown syntax: http://nestacms.com/docs/creating-content/markdown-cheat-sheet\n",
    "\n",
    "#### Resources\n",
    "\n",
    "+ Information and data sources: http://www.amstat.org/publications/jse/datasets/normtemp.txt, http://www.amstat.org/publications/jse/jse_data_archive.htm\n",
    "+ Markdown syntax: http://nestacms.com/docs/creating-content/markdown-cheat-sheet\n",
    "\n",
    "****"
   ]
  },
  {
   "cell_type": "code",
   "execution_count": 76,
   "metadata": {
    "collapsed": true
   },
   "outputs": [],
   "source": [
    "import pandas as pd\n",
    "%matplotlib inline\n",
    "import matplotlib.pyplot as plt\n",
    "pd.options.display.mpl_style = 'default'\n",
    "import math\n",
    "from scipy.stats import t, norm"
   ]
  },
  {
   "cell_type": "code",
   "execution_count": 77,
   "metadata": {
    "collapsed": false
   },
   "outputs": [],
   "source": [
    "df = pd.read_csv('data/human_body_temperature.csv')"
   ]
  },
  {
   "cell_type": "markdown",
   "metadata": {},
   "source": [
    "##1. Is the distribution of body temperatures normal?"
   ]
  },
  {
   "cell_type": "code",
   "execution_count": 78,
   "metadata": {
    "collapsed": false,
    "scrolled": true
   },
   "outputs": [
    {
     "name": "stdout",
     "output_type": "stream",
     "text": [
      "mean =  98.24923076923078 , standard deviation (s) =  0.7331831580389454\n"
     ]
    },
    {
     "data": {
      "image/png": "[encoded data removed]",
      "text/plain": [
       "<matplotlib.figure.Figure at 0xa1cf588>"
      ]
     },
     "metadata": {},
     "output_type": "display_data"
    }
   ],
   "source": [
    "#The first step is to get visual of the distribution of the data\n",
    "axes = df.temperature.plot(kind='hist', title='Temperatures Histogram')\n",
    "print(\"mean = \", df.temperature.mean(), \", standard deviation (s) = \", df.temperature.std())"
   ]
  },
  {
   "cell_type": "markdown",
   "metadata": {},
   "source": [
    "It appears from the histogram that the sample distribution does appear to be nearly normal centered at the mean of approximately 98.2 degrees F. There is, however, a slight right skew to the sample."
   ]
  },
  {
   "cell_type": "markdown",
   "metadata": {},
   "source": [
    "##2. Is the true population mean really 98.6 deg F?"
   ]
  },
  {
   "cell_type": "markdown",
   "metadata": {},
   "source": [
    "The first step in answering this question is determining our null and alternate hyptheses. They are as follows:\n",
    "\n",
    "* H0: mean = 98.6 deg F\n",
    "* HA: mean > 98.6 deg F OR mean < 98.6 deg F\n",
    "\n",
    "To conduct this hypthesis test, a t-test will be utilized because the population variance is unknown and the sample data appears slightly skewed. We can assume, however, that the population distribution of body temperatures is normal. The test statistic can be calculated by the following expression:\n",
    "\n",
    "    t = (sample_mean - 98.6 deg F)/SE where SE = s/sqrt(n) where n is the sample size of 130\n",
    "    deg_freedom = (n-1)\n"
   ]
  },
  {
   "cell_type": "code",
   "execution_count": 79,
   "metadata": {
    "collapsed": false
   },
   "outputs": [],
   "source": [
    "t_s = (df.temperature.mean()-98.6)/(df.temperature.std()/math.sqrt(len(df)))\n",
    "deg_freedom = len(df)-1"
   ]
  },
  {
   "cell_type": "markdown",
   "metadata": {},
   "source": [
    "Find the p-value by looking up the cumulative distribution function for the calculated t statistic and the degrees of freedom t distribution characteristic parameter."
   ]
  },
  {
   "cell_type": "code",
   "execution_count": 80,
   "metadata": {
    "collapsed": false
   },
   "outputs": [
    {
     "name": "stdout",
     "output_type": "stream",
     "text": [
      "p-value =  2.41063204156e-07\n"
     ]
    }
   ],
   "source": [
    "print(\"p-value = \", 2*t.cdf(t_s, deg_freedom))"
   ]
  },
  {
   "cell_type": "markdown",
   "metadata": {},
   "source": [
    "Assuming a significance level of 0.05, the hypothesis test allows us to reject the null hypothesis and therefore conclude that the average human body temperature is not 98.6 deg F. If a z-test had been used instead of a t-test, using the sample standard deviation as the population standard deviation, the result would not have been different. The hypothesis test would have more soundly rejected the null hypothesis."
   ]
  },
  {
   "cell_type": "markdown",
   "metadata": {},
   "source": [
    "##3. At what temperature should we consider someone's temperature to be abnormal?"
   ]
  },
  {
   "cell_type": "markdown",
   "metadata": {},
   "source": [
    "Let us first assume that the size of the confidence interval is 5%. To calculate the margin of error for this confidence interval. The margin of error can be calculated as follows:\n",
    "\n",
    "    +/- t_df*SE where SE = s/sqrt(n)"
   ]
  },
  {
   "cell_type": "code",
   "execution_count": 81,
   "metadata": {
    "collapsed": false
   },
   "outputs": [
    {
     "name": "stdout",
     "output_type": "stream",
     "text": [
      "margin of error = +/- 0.127227863623\n"
     ]
    }
   ],
   "source": [
    "margin_error = t.isf(0.025, deg_freedom)*df.temperature.std()/math.sqrt(len(df))\n",
    "print(\"margin of error = +/-\", margin_error)"
   ]
  },
  {
   "cell_type": "markdown",
   "metadata": {},
   "source": [
    "Based on the margin of error calculated above and the sample mean, the 95% confidence interval is the sample_mean +/- margin_error"
   ]
  },
  {
   "cell_type": "code",
   "execution_count": 82,
   "metadata": {
    "collapsed": false
   },
   "outputs": [
    {
     "name": "stdout",
     "output_type": "stream",
     "text": [
      "95% Confidence Interval = ( 98.1220029056 ,  98.3764586329 )\n"
     ]
    }
   ],
   "source": [
    "print(\"95% Confidence Interval = (\", df.temperature.mean()-margin_error, \", \", df.temperature.mean()+margin_error, \")\")"
   ]
  },
  {
   "cell_type": "markdown",
   "metadata": {},
   "source": [
    "Based on the result above, we can conclude that we are 95% confident that the average body temperature will fall in the above calculated Confidence Interval. Therefore, if someone has a body temperature outside of this interval, we can determine his or her body temperature to be \"abnormal\"."
   ]
  },
  {
   "cell_type": "markdown",
   "metadata": {},
   "source": [
    "##4. Is there a difference in mean body temperature between men and women?"
   ]
  },
  {
   "cell_type": "markdown",
   "metadata": {},
   "source": [
    "To attempt to answer this question, we will utilize a hypothesis test which tests the difference between the mean body temperature for men and the mean body temperature for women. The hypotheses can be stated as follows:\n",
    "\n",
    "    * H0: mean_women - mean_men <= diff\n",
    "    * HA: mean_women - mean_men > diff\n",
    "    where diff = 0.5\n",
    "We then calculate the test stastic, which in this case will be the t-statistic as follows:\n",
    "\n",
    "    t = ((sample_mean_women - sample_mean_men) - diff)/SE where SE = sqrt(s_men^2/n_men + s_women^2/n_women)"
   ]
  },
  {
   "cell_type": "code",
   "execution_count": 83,
   "metadata": {
    "collapsed": false
   },
   "outputs": [
    {
     "name": "stdout",
     "output_type": "stream",
     "text": [
      "98.1046153846154 98.39384615384613\n"
     ]
    }
   ],
   "source": [
    "mean_men, mean_women = df[df.gender == 'M'].temperature.mean(), df[df.gender == 'F'].temperature.mean()\n",
    "s_men, s_women = df[df.gender == 'M'].temperature.std(), df[df.gender == 'F'].temperature.std()\n",
    "n_men, n_women = len(df[df.gender == 'M']), len(df[df.gender == 'F'])\n",
    "SE = math.sqrt(s_men**2/n_men + s_women**2/n_women)\n",
    "diff = 0.5\n",
    "ts = ((mean_women - mean_men) - diff)/SE\n",
    "df = min(n_men-1, n_women-1)\n",
    "print(mean_men, mean_women)"
   ]
  },
  {
   "cell_type": "markdown",
   "metadata": {},
   "source": [
    "Once the t statstic is calculated we can use the cumulative distribution function with the calculated t stastic and degree of freedom"
   ]
  },
  {
   "cell_type": "code",
   "execution_count": 85,
   "metadata": {
    "collapsed": false
   },
   "outputs": [
    {
     "name": "stdout",
     "output_type": "stream",
     "text": [
      "p-value =  0.0503556228668\n"
     ]
    }
   ],
   "source": [
    "p_value = t.cdf(ts, df)\n",
    "print('p-value = ', p_value)"
   ]
  },
  {
   "cell_type": "markdown",
   "metadata": {},
   "source": [
    "Based on the calculated p-value, at a significane level of 0.05, we cannot reject the null hypothesis that the average body temperature of men and women is less than or equal to 0.5 deg F. This conclusion can change depending on the definition of \"significant difference\". "
   ]
  }
 ],
 "metadata": {
  "kernelspec": {
   "display_name": "Python 3",
   "language": "python",
   "name": "python3"
  },
  "language_info": {
   "codemirror_mode": {
    "name": "ipython",
    "version": 3
   },
   "file_extension": ".py",
   "mimetype": "text/x-python",
   "name": "python",
   "nbconvert_exporter": "python",
   "pygments_lexer": "ipython3",
   "version": "3.4.3"
  }
 },
 "nbformat": 4,
 "nbformat_minor": 0
}
