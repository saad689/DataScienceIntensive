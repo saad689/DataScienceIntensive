{
 "cells": [
  {
   "cell_type": "markdown",
   "metadata": {},
   "source": [
    "\n",
    "### Examining racial discrimination in the US job market\n",
    "\n",
    "#### Background\n",
    "Racial discrimination continues to be pervasive in cultures throughout the world. Researchers examined the level of racial discrimination in the United States labor market by randomly assigning identical résumés black-sounding or white-sounding names and observing the impact on requests for interviews from employers.\n",
    "\n",
    "#### Data\n",
    "In the dataset provided, each row represents a resume. The 'race' column has two values, 'b' and 'w', indicating black-sounding and white-sounding. The column 'call' has two values, 1 and 0, indicating whether the resume received a call from employers or not.\n",
    "\n",
    "Note that the 'b' and 'w' values in race are assigned randomly to the resumes.\n",
    "\n",
    "#### Exercise\n",
    "You will perform a statistical analysis to establish whether race has a significant impact on the rate of callbacks for resumes.\n",
    "\n",
    "Answer the following questions **in this notebook below and submit to your Github account**. \n",
    "\n",
    "   1. What test is appropriate for this problem? Does CLT apply?\n",
    "   2. What are the null and alternate hypotheses?\n",
    "   3. Compute margin of error, confidence interval, and p-value.\n",
    "   4. Discuss statistical significance.\n",
    "\n",
    "You can include written notes in notebook cells using Markdown: \n",
    "   - In the control panel at the top, choose Cell > Cell Type > Markdown\n",
    "   - Markdown syntax: http://nestacms.com/docs/creating-content/markdown-cheat-sheet\n",
    "\n",
    "\n",
    "#### Resources\n",
    "+ Experiment information and data source: http://www.povertyactionlab.org/evaluation/discrimination-job-market-united-states\n",
    "+ Scipy statistical methods: http://docs.scipy.org/doc/scipy/reference/stats.html \n",
    "+ Markdown syntax: http://nestacms.com/docs/creating-content/markdown-cheat-sheet\n",
    "\n",
    "****"
   ]
  },
  {
   "cell_type": "code",
   "execution_count": 1,
   "metadata": {
    "collapsed": true
   },
   "outputs": [],
   "source": [
    "import pandas as pd\n",
    "import numpy as np\n",
    "from scipy import stats"
   ]
  },
  {
   "cell_type": "code",
   "execution_count": 2,
   "metadata": {
    "collapsed": false
   },
   "outputs": [],
   "source": [
    "data = pd.io.stata.read_stata('data/us_job_market_discrimination.dta')"
   ]
  },
  {
   "cell_type": "code",
   "execution_count": 3,
   "metadata": {
    "collapsed": false
   },
   "outputs": [],
   "source": [
    "# number of callbacks for balck-sounding names and total number of black sounding names\n",
    "cb_b, n_b = sum(data[data.race=='b'].call), len(data[data.race=='b'])"
   ]
  },
  {
   "cell_type": "code",
   "execution_count": 4,
   "metadata": {
    "collapsed": false
   },
   "outputs": [],
   "source": [
    "# number of callbacks for white-sounding names and total number of white sounding names\n",
    "cb_w, n_w = sum(data[data.race=='w'].call), len(data[data.race=='w'])"
   ]
  },
  {
   "cell_type": "markdown",
   "metadata": {},
   "source": [
    "##1. What test is appropriate? Are conditions for the CLT met?\n",
    "\n",
    "The first step in this problem is to check the conditions of the Central Limit Theorem for proportions:\n",
    "\n",
    "1) Independence:\n",
    "    * Both samples must be randomly selected: This is met because the samples are taken randomly\n",
    "    * n1 and n2 < 10% of population: There are 2435 samples of each case, which is less than the population of black and white sounding names\n",
    "\n",
    "2) Sample Size\n",
    "    * There are at least 10 successes and at least 10 failures for both white and black sounding names\n",
    "    \n",
    "We can conclude that the conditions for CLT are met. This allows us to use a Z-Test to do a hypothesis test.\n",
    "\n",
    "##2. What are the null and alternate hypotheses?\n",
    "\n",
    "The hypotheses for this test will be set up as follows:\n",
    "\n",
    "    * H0: p_w - p_b = 0, i.e. there is no significant difference in resume callbacks based on racially associated names\n",
    "    * HA: p_w - p_b <> 0, i.e. there is a significant difference in resume callbacks based on racially associated names"
   ]
  },
  {
   "cell_type": "markdown",
   "metadata": {},
   "source": [
    "##3. Compute the margin of error, confidence interval, and p-value"
   ]
  },
  {
   "cell_type": "code",
   "execution_count": 5,
   "metadata": {
    "collapsed": false
   },
   "outputs": [
    {
     "name": "stdout",
     "output_type": "stream",
     "text": [
      "Margin of Error =  0.0152551260282\n",
      "Confidence Interval:  0.0320328542094 +/- 0.0152551260282\n"
     ]
    }
   ],
   "source": [
    "#Compute the margin of error for a significance level of 0.05\n",
    "p_b, p_w = cb_b/n_b, cb_w/n_w\n",
    "z = stats.norm.ppf(0.975)\n",
    "SE = np.sqrt((p_b*(1-p_b))/n_b + (p_w*(1-p_w))/n_w)\n",
    "margin_error = z*SE\n",
    "print('Margin of Error = ', margin_error)\n",
    "print('Confidence Interval: ', p_w - p_b, '+/-', margin_error)"
   ]
  },
  {
   "cell_type": "code",
   "execution_count": 6,
   "metadata": {
    "collapsed": false
   },
   "outputs": [
    {
     "name": "stdout",
     "output_type": "stream",
     "text": [
      "z-statistic =  4.11555043573 p-value =  3.86256520752e-05\n"
     ]
    }
   ],
   "source": [
    "#Compute the p-value\n",
    "z_s = (p_w - p_b)/SE\n",
    "p_value = (1 - stats.norm.cdf(z_s))*2\n",
    "print('z-statistic = ', z_s, 'p-value = ', p_value)"
   ]
  },
  {
   "cell_type": "markdown",
   "metadata": {},
   "source": [
    "##4. Discuss Statistics Significance"
   ]
  },
  {
   "cell_type": "markdown",
   "metadata": {
    "collapsed": true
   },
   "source": [
    "Based on the results above, it appears that the racial association of names does have an effect on resume callbacks. The p-value calculated is less than the significance level of 0.05. Although we can reject this null hypothesis, it should be noted that the result of this experiment do not definitively make a statement on racial discrimination. The experiment was done using black and white sounding names, which do not necessarily associate with people who are actually black or white. Also, resume callbacks do not provide indication of discrimination when the race of the person is definitively known either by self identification or by meeting and seeing the person. The result of the overall study indicates racial discrimination but does not necessarily imply causation."
   ]
  }
 ],
 "metadata": {
  "kernelspec": {
   "display_name": "Python 3",
   "language": "python",
   "name": "python3"
  },
  "language_info": {
   "codemirror_mode": {
    "name": "ipython",
    "version": 3
   },
   "file_extension": ".py",
   "mimetype": "text/x-python",
   "name": "python",
   "nbconvert_exporter": "python",
   "pygments_lexer": "ipython3",
   "version": "3.4.3"
  }
 },
 "nbformat": 4,
 "nbformat_minor": 0
}
